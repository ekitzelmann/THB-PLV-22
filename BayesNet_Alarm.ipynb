{
 "cells": [
  {
   "cell_type": "code",
   "execution_count": null,
   "metadata": {},
   "outputs": [],
   "source": [
    "import math\n",
    "from pomegranate import *"
   ]
  },
  {
   "cell_type": "code",
   "execution_count": null,
   "metadata": {},
   "outputs": [],
   "source": [
    "import pygraphviz\n",
    "import tempfile\n",
    "import matplotlib.pyplot as plt\n",
    "import matplotlib.image as matimg\n",
    "\n",
    "def plot(model):\n",
    "    G = pygraphviz.AGraph(directed=True)\n",
    "    \n",
    "    for state in model.states:\n",
    "        G.add_node(state.name, color='red')\n",
    "        \n",
    "    for parent, child in model.edges:\n",
    "        G.add_edge(parent.name, child.name)\n",
    "        \n",
    "    with tempfile.NamedTemporaryFile() as tf:\n",
    "        G.draw(tf, format='png', prog='dot')\n",
    "        img = matimg.imread(tf)\n",
    "        plt.imshow(img)\n",
    "        plt.axis('off')\n",
    "        plt.show()"
   ]
  },
  {
   "cell_type": "code",
   "execution_count": null,
   "metadata": {},
   "outputs": [],
   "source": [
    "# Wahrscheinlichkeitstabellen\n",
    "wk_einbruch = DiscreteDistribution({'e': 0.001, 'ne': 0.999})\n",
    "wk_erdbeben = DiscreteDistribution({'b': 0.002, 'nb': 0.998})\n",
    "wk_alarm = ConditionalProbabilityTable([\n",
    "    ['e', 'b', 'a', 0.95],\n",
    "    ['e', 'b', 'na', 0.05],\n",
    "    ['e', 'nb', 'a', 0.94],\n",
    "    ['e', 'nb', 'na', 0.06],\n",
    "    ['ne', 'b', 'a', 0.29],\n",
    "    ['ne', 'b', 'na', 0.71],\n",
    "    ['ne', 'nb', 'a', 0.001],\n",
    "    ['ne', 'nb', 'na', 0.999]], [wk_einbruch, wk_erdbeben])\n",
    "wk_john = ConditionalProbabilityTable([\n",
    "    ['a', 'j', 0.9],\n",
    "    ['a', 'nj', 0.1],\n",
    "    ['na', 'j', 0.05],\n",
    "    ['na', 'nj', 0.95]], [wk_alarm])\n",
    "wk_mary = ConditionalProbabilityTable([\n",
    "    ['a', 'm', 0.7],\n",
    "    ['a', 'nm', 0.3],\n",
    "    ['na', 'm', 0.01],\n",
    "    ['na', 'nm', 0.99]], [wk_alarm])"
   ]
  },
  {
   "cell_type": "code",
   "execution_count": null,
   "metadata": {},
   "outputs": [],
   "source": [
    "einbruch = Node(wk_einbruch, name=\"Einbruch\")\n",
    "erdbeben = Node(wk_erdbeben, name=\"Erdbeben\")\n",
    "alarm = Node(wk_alarm, name=\"Alarm\")\n",
    "john = Node(wk_john, name=\"John\")\n",
    "mary = Node(wk_mary, name=\"Mary\")\n",
    "\n"
   ]
  },
  {
   "cell_type": "code",
   "execution_count": null,
   "metadata": {},
   "outputs": [],
   "source": [
    "network = BayesianNetwork(\"Alarm-BN von Judea Pearl\")\n",
    "network.add_states(einbruch, erdbeben, alarm, john, mary)\n",
    "network.add_edge(einbruch, alarm)\n",
    "network.add_edge(erdbeben, alarm)\n",
    "network.add_edge(alarm, john)\n",
    "network.add_edge(alarm, mary)\n",
    "network.bake()"
   ]
  },
  {
   "cell_type": "code",
   "execution_count": null,
   "metadata": {},
   "outputs": [],
   "source": [
    "plot(network)"
   ]
  },
  {
   "cell_type": "code",
   "execution_count": null,
   "metadata": {},
   "outputs": [],
   "source": [
    "p = network.probability([['ne','nb','a','j','m']])\n",
    "p"
   ]
  },
  {
   "cell_type": "code",
   "execution_count": null,
   "metadata": {},
   "outputs": [],
   "source": [
    "beliefs = network.predict_proba({ 'John' : 'j', 'Mary' : 'm'})\n",
    "beliefs"
   ]
  },
  {
   "cell_type": "code",
   "execution_count": null,
   "metadata": {},
   "outputs": [],
   "source": [
    "m = network.marginal()\n",
    "m"
   ]
  },
  {
   "cell_type": "code",
   "execution_count": null,
   "metadata": {},
   "outputs": [],
   "source": []
  }
 ],
 "metadata": {
  "kernelspec": {
   "display_name": "Python 3 (ipykernel)",
   "language": "python",
   "name": "python3"
  },
  "language_info": {
   "codemirror_mode": {
    "name": "ipython",
    "version": 3
   },
   "file_extension": ".py",
   "mimetype": "text/x-python",
   "name": "python",
   "nbconvert_exporter": "python",
   "pygments_lexer": "ipython3",
   "version": "3.9.12"
  }
 },
 "nbformat": 4,
 "nbformat_minor": 4
}
