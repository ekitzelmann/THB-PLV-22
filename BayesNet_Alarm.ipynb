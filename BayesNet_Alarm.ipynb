{
 "cells": [
  {
   "cell_type": "markdown",
   "metadata": {},
   "source": [
    "# Das \"Alarm\"-Bayes-Netz in Python mit pomegranate"
   ]
  },
  {
   "cell_type": "code",
   "execution_count": 10,
   "metadata": {},
   "outputs": [],
   "source": [
    "# notwendige imports, u.a. das pomegranate package \n",
    "import math\n",
    "from pomegranate import *"
   ]
  },
  {
   "cell_type": "markdown",
   "metadata": {},
   "source": [
    "Der folgende Code definiert eine Funktion, um die Kausalstruktur eines erstelltes Netzes grafisch darzustellen"
   ]
  },
  {
   "cell_type": "code",
   "execution_count": 11,
   "metadata": {},
   "outputs": [],
   "source": [
    "import pygraphviz\n",
    "import tempfile\n",
    "import matplotlib.pyplot as plt\n",
    "import matplotlib.image as matimg\n",
    "\n",
    "def plot(model):\n",
    "    G = pygraphviz.AGraph(directed=True)\n",
    "    \n",
    "    for state in model.states:\n",
    "        G.add_node(state.name, color='red')\n",
    "        \n",
    "    for parent, child in model.edges:\n",
    "        G.add_edge(parent.name, child.name)\n",
    "        \n",
    "    with tempfile.NamedTemporaryFile() as tf:\n",
    "        G.draw(tf, format='png', prog='dot')\n",
    "        img = matimg.imread(tf)\n",
    "        plt.imshow(img)\n",
    "        plt.axis('off')\n",
    "        plt.show()"
   ]
  },
  {
   "cell_type": "markdown",
   "metadata": {},
   "source": [
    "## Definition des \"Alarm\"-Bayes-Netzes mittels pomegranate\n",
    "Zunächst werden alle Wahrscheinlichkeitstabellen (CPTs) definiert."
   ]
  },
  {
   "cell_type": "code",
   "execution_count": 12,
   "metadata": {},
   "outputs": [],
   "source": [
    "# Wahrscheinlichkeitstabellen\n",
    "wk_einbruch = DiscreteDistribution({'e': 0.001, 'ne': 0.999})\n",
    "wk_erdbeben = DiscreteDistribution({'b': 0.002, 'nb': 0.998})\n",
    "wk_alarm = ConditionalProbabilityTable([\n",
    "    ['e', 'b', 'a', 0.95],\n",
    "    ['e', 'b', 'na', 0.05],\n",
    "    ['e', 'nb', 'a', 0.94],\n",
    "    ['e', 'nb', 'na', 0.06],\n",
    "    ['ne', 'b', 'a', 0.29],\n",
    "    ['ne', 'b', 'na', 0.71],\n",
    "    ['ne', 'nb', 'a', 0.001],\n",
    "    ['ne', 'nb', 'na', 0.999]], [wk_einbruch, wk_erdbeben])\n",
    "wk_john = ConditionalProbabilityTable([\n",
    "    ['a', 'j', 0.9],\n",
    "    ['a', 'nj', 0.1],\n",
    "    ['na', 'j', 0.05],\n",
    "    ['na', 'nj', 0.95]], [wk_alarm])\n",
    "wk_mary = ConditionalProbabilityTable([\n",
    "    ['a', 'm', 0.7],\n",
    "    ['a', 'nm', 0.3],\n",
    "    ['na', 'm', 0.01],\n",
    "    ['na', 'nm', 0.99]], [wk_alarm])"
   ]
  },
  {
   "cell_type": "markdown",
   "metadata": {},
   "source": [
    "Mit den Wahrscheinlichkeitstabellen werden die Knoten des Netzes erstellt."
   ]
  },
  {
   "cell_type": "code",
   "execution_count": 13,
   "metadata": {},
   "outputs": [],
   "source": [
    "einbruch = Node(wk_einbruch, name=\"Einbruch\")\n",
    "erdbeben = Node(wk_erdbeben, name=\"Erdbeben\")\n",
    "alarm = Node(wk_alarm, name=\"Alarm\")\n",
    "john = Node(wk_john, name=\"John\")\n",
    "mary = Node(wk_mary, name=\"Mary\")\n",
    "\n"
   ]
  },
  {
   "cell_type": "markdown",
   "metadata": {},
   "source": [
    "Es wird ein Netzwerk-Objekt erstellt und alle Knoten und die gewünschten Pfeile zwischen den Knoten nacheinander hinzugefügt."
   ]
  },
  {
   "cell_type": "code",
   "execution_count": 14,
   "metadata": {},
   "outputs": [],
   "source": [
    "network = BayesianNetwork(\"Alarm-BN von Judea Pearl\")\n",
    "network.add_states(einbruch, erdbeben, alarm, john, mary)\n",
    "network.add_edge(einbruch, alarm)\n",
    "network.add_edge(erdbeben, alarm)\n",
    "network.add_edge(alarm, john)\n",
    "network.add_edge(alarm, mary)\n",
    "network.bake()"
   ]
  },
  {
   "cell_type": "code",
   "execution_count": 15,
   "metadata": {},
   "outputs": [
    {
     "data": {
      "image/png": "[encoded data removed]",
      "text/plain": [
       "<Figure size 432x288 with 1 Axes>"
      ]
     },
     "metadata": {
      "needs_background": "light"
     },
     "output_type": "display_data"
    }
   ],
   "source": [
    "# Netz-Struktur grafisch anzeigen\n",
    "plot(network)"
   ]
  },
  {
   "cell_type": "markdown",
   "metadata": {},
   "source": [
    "## Berechnung der Beispiele von den Folien zu diesem Bayes-Netz"
   ]
  },
  {
   "cell_type": "markdown",
   "metadata": {},
   "source": [
    "Berechnung einer vollständigen gemeinsamen Wahrscheinlichkeit."
   ]
  },
  {
   "cell_type": "code",
   "execution_count": 16,
   "metadata": {},
   "outputs": [
    {
     "data": {
      "text/plain": [
       "0.0006281112600000005"
      ]
     },
     "execution_count": 16,
     "metadata": {},
     "output_type": "execute_result"
    }
   ],
   "source": [
    "p = network.probability([['ne','nb','a','j','m']])\n",
    "p"
   ]
  },
  {
   "cell_type": "markdown",
   "metadata": {},
   "source": [
    "Berechnung einer Abfrage-Wahrscheinlichkeit gegeben Evidenz"
   ]
  },
  {
   "cell_type": "code",
   "execution_count": 17,
   "metadata": {},
   "outputs": [
    {
     "data": {
      "text/plain": [
       "array([{\n",
       "           \"class\" : \"Distribution\",\n",
       "           \"dtype\" : \"str\",\n",
       "           \"name\" : \"DiscreteDistribution\",\n",
       "           \"parameters\" : [\n",
       "               {\n",
       "                   \"e\" : 0.2841718353644582,\n",
       "                   \"ne\" : 0.7158281646355419\n",
       "               }\n",
       "           ],\n",
       "           \"frozen\" : false\n",
       "       }                                    ,\n",
       "       {\n",
       "           \"class\" : \"Distribution\",\n",
       "           \"dtype\" : \"str\",\n",
       "           \"name\" : \"DiscreteDistribution\",\n",
       "           \"parameters\" : [\n",
       "               {\n",
       "                   \"b\" : 0.17606683840509593,\n",
       "                   \"nb\" : 0.823933161594904\n",
       "               }\n",
       "           ],\n",
       "           \"frozen\" : false\n",
       "       }                                     ,\n",
       "       {\n",
       "           \"class\" : \"Distribution\",\n",
       "           \"dtype\" : \"str\",\n",
       "           \"name\" : \"DiscreteDistribution\",\n",
       "           \"parameters\" : [\n",
       "               {\n",
       "                   \"a\" : 0.7606920388631566,\n",
       "                   \"na\" : 0.2393079611368433\n",
       "               }\n",
       "           ],\n",
       "           \"frozen\" : false\n",
       "       }                                    , 'j', 'm'], dtype=object)"
      ]
     },
     "execution_count": 17,
     "metadata": {},
     "output_type": "execute_result"
    }
   ],
   "source": [
    "beliefs = network.predict_proba({ 'John' : 'j', 'Mary' : 'm'})\n",
    "beliefs"
   ]
  },
  {
   "cell_type": "markdown",
   "metadata": {},
   "source": [
    "Berechnung aller Marginalwahrscheinlichkeiten"
   ]
  },
  {
   "cell_type": "code",
   "execution_count": 18,
   "metadata": {},
   "outputs": [
    {
     "data": {
      "text/plain": [
       "array([{\n",
       "           \"class\" : \"Distribution\",\n",
       "           \"dtype\" : \"str\",\n",
       "           \"name\" : \"DiscreteDistribution\",\n",
       "           \"parameters\" : [\n",
       "               {\n",
       "                   \"e\" : 0.0010000000000004432,\n",
       "                   \"ne\" : 0.9989999999999996\n",
       "               }\n",
       "           ],\n",
       "           \"frozen\" : false\n",
       "       }                                       ,\n",
       "       {\n",
       "           \"class\" : \"Distribution\",\n",
       "           \"dtype\" : \"str\",\n",
       "           \"name\" : \"DiscreteDistribution\",\n",
       "           \"parameters\" : [\n",
       "               {\n",
       "                   \"b\" : 0.0020000000000004424,\n",
       "                   \"nb\" : 0.9979999999999996\n",
       "               }\n",
       "           ],\n",
       "           \"frozen\" : false\n",
       "       }                                       ,\n",
       "       {\n",
       "           \"class\" : \"Distribution\",\n",
       "           \"dtype\" : \"str\",\n",
       "           \"name\" : \"DiscreteDistribution\",\n",
       "           \"parameters\" : [\n",
       "               {\n",
       "                   \"a\" : 0.0025164420000009344,\n",
       "                   \"na\" : 0.997483557999999\n",
       "               }\n",
       "           ],\n",
       "           \"frozen\" : false\n",
       "       }                                       ,\n",
       "       {\n",
       "           \"class\" : \"Distribution\",\n",
       "           \"dtype\" : \"str\",\n",
       "           \"name\" : \"DiscreteDistribution\",\n",
       "           \"parameters\" : [\n",
       "               {\n",
       "                   \"j\" : 0.0521389757000008,\n",
       "                   \"nj\" : 0.9478610242999992\n",
       "               }\n",
       "           ],\n",
       "           \"frozen\" : false\n",
       "       }                                    ,\n",
       "       {\n",
       "           \"class\" : \"Distribution\",\n",
       "           \"dtype\" : \"str\",\n",
       "           \"name\" : \"DiscreteDistribution\",\n",
       "           \"parameters\" : [\n",
       "               {\n",
       "                   \"m\" : 0.01173634498000071,\n",
       "                   \"nm\" : 0.9882636550199994\n",
       "               }\n",
       "           ],\n",
       "           \"frozen\" : false\n",
       "       }                                     ], dtype=object)"
      ]
     },
     "execution_count": 18,
     "metadata": {},
     "output_type": "execute_result"
    }
   ],
   "source": [
    "m = network.marginal()\n",
    "m"
   ]
  },
  {
   "cell_type": "code",
   "execution_count": null,
   "metadata": {},
   "outputs": [],
   "source": []
  }
 ],
 "metadata": {
  "kernelspec": {
   "display_name": "Python 3 (ipykernel)",
   "language": "python",
   "name": "python3"
  },
  "language_info": {
   "codemirror_mode": {
    "name": "ipython",
    "version": 3
   },
   "file_extension": ".py",
   "mimetype": "text/x-python",
   "name": "python",
   "nbconvert_exporter": "python",
   "pygments_lexer": "ipython3",
   "version": "3.9.12"
  }
 },
 "nbformat": 4,
 "nbformat_minor": 4
}
